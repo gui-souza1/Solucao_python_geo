{
 "cells": [
  {
   "cell_type": "markdown",
   "metadata": {},
   "source": [
    "# Solução Exercício Python Geo (Kognitalabs)\n",
    "-> A resolução dos exercícios a seguir considera que os dados se referem a uma rede de varejo do segmento alimentício (doces e chocolates). A análise tem como objetivo proporcionar uma compreensão estratégica e fornecer insights que apoiarão o cliente no entendimento geoespacial das unidades. Além disso, visa oferecer informações para auxiliar na expansão das unidades da rede."
   ]
  },
  {
   "cell_type": "code",
   "execution_count": null,
   "metadata": {},
   "outputs": [],
   "source": [
    "#bibliotecas\n",
    "import pandas as pd\n",
    "import numpy as np\n",
    "import matplotlib.pyplot as plt\n",
    "import seaborn as sns\n",
    "import pyarrow\n",
    "from geopy.geocoders import Nominatim\n",
    "from scipy.stats import linregress\n",
    "\n"
   ]
  },
  {
   "cell_type": "code",
   "execution_count": null,
   "metadata": {},
   "outputs": [],
   "source": [
    "#carregar e mostrar o arquivo\n",
    "arq_poi = pd.read_parquet(\"pontos_interesse_geograficos.parquet\")\n",
    "arq_poi"
   ]
  },
  {
   "cell_type": "code",
   "execution_count": null,
   "metadata": {},
   "outputs": [],
   "source": [
    "#VERIFICAÇÕES\n",
    "arq_poi.isna().sum()\n"
   ]
  },
  {
   "cell_type": "code",
   "execution_count": null,
   "metadata": {},
   "outputs": [],
   "source": [
    "arq_poi.isnull().sum()"
   ]
  },
  {
   "cell_type": "code",
   "execution_count": null,
   "metadata": {},
   "outputs": [],
   "source": [
    "arq_poi[\"tipo_negocio\"].describe()"
   ]
  },
  {
   "cell_type": "code",
   "execution_count": null,
   "metadata": {},
   "outputs": [],
   "source": [
    "negocios = arq_poi.groupby(\"tipo_negocio\").size()\n",
    "negocios"
   ]
  },
  {
   "cell_type": "markdown",
   "metadata": {},
   "source": [
    "•**Tarefa 1:**\n",
    "\n",
    "    Determinar os pontos de interesse geográficos (POIs) localizados dentro de cada município, e mapear as categorias relacionadas a potenciais concorrentes."
   ]
  },
  {
   "cell_type": "code",
   "execution_count": null,
   "metadata": {},
   "outputs": [],
   "source": [
    "# TRANSFORMAR AS COORDENADAS GEOGRAFICAS PARA DESCOBRIR A O MUNICIPIO(endereco)\n",
    "# Inicial\n",
    "geolocator = Nominatim(user_agent=\"meu_app\")\n",
    "\n",
    "enderecos = []\n",
    "\n",
    "# Infelizmente só consegui processar as 1000 primeiras linhas do DataFrame.\n",
    "arq_poi = arq_poi.head(1000)\n",
    "\n",
    "# percorrer as linhas do Dataset\n",
    "for index, row in arq_poi.iterrows():\n",
    "    latitude = row['latitude']\n",
    "    longitude = row['longitude']\n",
    "    location = geolocator.reverse((latitude, longitude))\n",
    "    endereco_completo = location.address if location else \"Endereço não encontrado\"\n",
    "\n",
    "    # Extrair  o endereço\n",
    "    endereco_partes = endereco_completo.split(',')\n",
    "    if len(endereco_partes) > 5:\n",
    "        endereco_resumido = endereco_partes[5].strip()\n",
    "    else:\n",
    "        endereco_resumido = \"Dados insuficientes\"\n",
    "\n",
    "    enderecos.append(endereco_resumido)\n",
    "    print(f'{endereco_resumido}')\n",
    "\n",
    "# criar uma nova coluna no dataset com os endereços\n",
    "arq_poi['endereco'] = enderecos\n",
    "\n",
    "print(\"Processamento concluído.\")\n"
   ]
  },
  {
   "cell_type": "code",
   "execution_count": null,
   "metadata": {},
   "outputs": [],
   "source": [
    "\n",
    "arq_poi"
   ]
  },
  {
   "cell_type": "code",
   "execution_count": null,
   "metadata": {},
   "outputs": [],
   "source": [
    "#PONTOS DE INTERESSE X CONCORRENTES\n",
    "poi = ['academia','aeroporto','amenidade', 'autoescola', 'banco', 'beleza', 'bombeiro', 'caixa', 'cartorio', 'cinema', 'clinica', 'clube', 'combustivel', 'concessionaria', 'correio', 'dentista', 'distribuidor', 'escola', 'escritório', 'esporte', 'estacionamento', 'evento', 'eventos', 'exercito', 'fabricantes', 'farmacia', 'fazenda', 'fornecedor', 'heliporto', 'hospedagem', 'hospital', 'igreja', 'laboratorio', 'medico', 'moradia', 'oficina', 'organizacao', 'outros', 'petshop', 'policia', 'praia publica', 'prestador', 'publico', 'saude', 'servicopublico', 'transporte', 'universidade', 'veterinario' ]\n",
    "concorrentes = ['comercio', 'negocio', 'padaria', 'restaurante', 'shopping', 'supermercado' ]"
   ]
  },
  {
   "cell_type": "code",
   "execution_count": null,
   "metadata": {},
   "outputs": [],
   "source": [
    "# Filtrar e agrupar Pontos de Interesse geográficos(POIs)\n",
    "fil_poi = arq_poi[arq_poi['tipo_negocio'].isin(poi)]\n",
    "g1 = fil_poi.groupby(\"tipo_negocio\")['endereco'].size().reset_index(name='counts') # agrupado por negócio\n",
    "\n",
    "\n",
    "# Mapear as categorias de Potenciais Concorrentes\n",
    "fil_concorrentes = arq_poi[arq_poi['tipo_negocio'].isin(concorrentes)]\n",
    "g1_concorrentes = fil_concorrentes.groupby(\"tipo_negocio\")['endereco'].size().reset_index(name='counts') # agrupado por negócio\n"
   ]
  },
  {
   "cell_type": "markdown",
   "metadata": {},
   "source": [
    "•**Tarefa 2:**\n",
    "\n",
    "    Plotar mapa quantidade total de POIs por município."
   ]
  },
  {
   "cell_type": "code",
   "execution_count": null,
   "metadata": {},
   "outputs": [],
   "source": [
    "#Grafico de barras\n",
    "plt.figure(figsize=(16, 6))\n",
    "sns.barplot(data=g1, y=\"counts\", x=\"tipo_negocio\").set(title=\"Contagem de Negócios por Tipo\")\n",
    "plt.xticks(rotation=80)\n",
    "plt.show()"
   ]
  },
  {
   "cell_type": "markdown",
   "metadata": {},
   "source": [
    "•**Tarefa 3:**\n",
    "\n",
    "    Para cada uma das top 5 categorias de POIs (em termos de quantidade), fazer o mesmo que o item 2."
   ]
  },
  {
   "cell_type": "code",
   "execution_count": null,
   "metadata": {},
   "outputs": [],
   "source": [
    "#Mostrar quem são o top 5\n",
    "top5 = g1.sort_values(by='counts', ascending=False)\n",
    "top5.head(5)"
   ]
  },
  {
   "cell_type": "code",
   "execution_count": null,
   "metadata": {},
   "outputs": [],
   "source": [
    "# TOP 1 - categoria 'prestador'\n",
    "categoria1 = arq_poi[arq_poi['tipo_negocio'] == 'prestador']\n",
    "\n",
    "# Agrupar por município e contar a quantidade\n",
    "categoria1_counts = categoria1.groupby('endereco').size().reset_index(name='counts')\n",
    "\n",
    "# Ordenar os dados por quantidade para melhor visualização\n",
    "categoria1_counts = categoria1_counts.sort_values(by='counts', ascending=False)\n",
    "\n",
    "# grafico\n",
    "plt.figure(figsize=(16, 8))\n",
    "sns.barplot(data=categoria1_counts, \n",
    "            x='endereco', \n",
    "            y='counts', \n",
    "            palette=\"viridis\")\n",
    "plt.xticks(rotation=90)\n",
    "plt.title(\"Quantidade de POIs Prestadores por Município\")\n",
    "plt.xlabel('Município')\n",
    "plt.ylabel('Quantidade de Prestadores')\n",
    "plt.show()"
   ]
  },
  {
   "cell_type": "code",
   "execution_count": null,
   "metadata": {},
   "outputs": [],
   "source": [
    "# TOP 2 - categoria 'beleza'\n",
    "categoria2 = arq_poi[arq_poi['tipo_negocio'] == 'beleza']\n",
    "\n",
    "# Agrupar por município e contar a quantidade\n",
    "categoria2_counts = categoria2.groupby('endereco').size().reset_index(name='counts')\n",
    "\n",
    "# Ordenar os dados por quantidade para melhor visualização\n",
    "categoria2_counts = categoria2_counts.sort_values(by='counts', ascending=False)\n",
    "\n",
    "# grafico\n",
    "plt.figure(figsize=(16, 8))\n",
    "sns.barplot(data=categoria2_counts, \n",
    "            x='endereco', \n",
    "            y='counts', \n",
    "            palette=\"viridis\")\n",
    "plt.xticks(rotation=90)\n",
    "plt.title(\"Quantidade de POIs beleza por Município\")\n",
    "plt.xlabel('Município')\n",
    "plt.ylabel('Quantidade de POIs beleza')\n",
    "plt.show()"
   ]
  },
  {
   "cell_type": "code",
   "execution_count": null,
   "metadata": {},
   "outputs": [],
   "source": [
    "# TOP 3 - categoria 'escola'\n",
    "categoria3 = arq_poi[arq_poi['tipo_negocio'] == 'escola']\n",
    "\n",
    "# Agrupar por município e contar a quantidade\n",
    "categoria3_counts = categoria3.groupby('endereco').size().reset_index(name='counts')\n",
    "\n",
    "# Ordenar os dados por quantidade para melhor visualização\n",
    "categoria3_counts = categoria3_counts.sort_values(by='counts', ascending=False)\n",
    "\n",
    "# grafico\n",
    "plt.figure(figsize=(16, 8))\n",
    "sns.barplot(data=categoria3_counts, \n",
    "            x='endereco', \n",
    "            y='counts', \n",
    "            palette=\"viridis\")\n",
    "plt.xticks(rotation=90)\n",
    "plt.title(\"Quantidade de POIs escola por Município\")\n",
    "plt.xlabel('Município')\n",
    "plt.ylabel('Quantidade de POIs escola')\n",
    "plt.show()"
   ]
  },
  {
   "cell_type": "code",
   "execution_count": null,
   "metadata": {},
   "outputs": [],
   "source": [
    "# TOP 4 - categoria 'igreja'\n",
    "categoria4 = arq_poi[arq_poi['tipo_negocio'] == 'igreja']\n",
    "\n",
    "# Agrupar por município e contar a quantidade\n",
    "categoria4_counts = categoria4.groupby('endereco').size().reset_index(name='counts')\n",
    "\n",
    "# Ordenar os dados por quantidade para melhor visualização\n",
    "categoria4_counts = categoria4_counts.sort_values(by='counts', ascending=False)\n",
    "\n",
    "# grafico\n",
    "plt.figure(figsize=(16, 8))\n",
    "sns.barplot(data=categoria4_counts, \n",
    "            x='endereco', \n",
    "            y='counts', \n",
    "            palette=\"viridis\")\n",
    "plt.xticks(rotation=90)\n",
    "plt.title(\"Quantidade de POIs igreja por Município\")\n",
    "plt.xlabel('Município')\n",
    "plt.ylabel('Quantidade de POIs igreja')\n",
    "plt.show()"
   ]
  },
  {
   "cell_type": "code",
   "execution_count": null,
   "metadata": {},
   "outputs": [],
   "source": [
    "# TOP 5 - categoria 'oficina'\n",
    "categoria5 = arq_poi[arq_poi['tipo_negocio'] == 'oficina']\n",
    "\n",
    "# Agrupar por município e contar a quantidade\n",
    "categoria5_counts = categoria5.groupby('endereco').size().reset_index(name='counts')\n",
    "\n",
    "# Ordenar os dados por quantidade para melhor visualização\n",
    "categoria5_counts = categoria5_counts.sort_values(by='counts', ascending=False)\n",
    "\n",
    "# grafico\n",
    "plt.figure(figsize=(16, 8))\n",
    "sns.barplot(data=categoria5_counts, \n",
    "            x='endereco', \n",
    "            y='counts', \n",
    "            palette=\"viridis\")\n",
    "plt.xticks(rotation=90)\n",
    "plt.title(\"Quantidade de POIs oficina por Município\")\n",
    "plt.xlabel('Município')\n",
    "plt.ylabel('Quantidade de POIs oficina')\n",
    "plt.show()"
   ]
  },
  {
   "cell_type": "markdown",
   "metadata": {},
   "source": [
    "•**Tarefa 4:**\n",
    "\n",
    "    Para as categorias de POIs que foram identificadas como possíveis concorrentes, fazer o mesmo que o item 2."
   ]
  },
  {
   "cell_type": "code",
   "execution_count": null,
   "metadata": {},
   "outputs": [],
   "source": [
    "#Grafico de barras\n",
    "plt.figure(figsize=(16, 6))\n",
    "sns.barplot(data=g1_concorrentes, \n",
    "            y=\"counts\", \n",
    "            x=\"tipo_negocio\").set(title=\"Contagem de Negócios Concorrentes por Tipo\")\n",
    "plt.xticks(rotation=80)\n",
    "plt.show()"
   ]
  },
  {
   "cell_type": "markdown",
   "metadata": {},
   "source": [
    "•**Tarefa 5:**\n",
    "\n",
    "    Para os dados utilizados para gerar os 7 mapas acima, determinar a correlação espacial (coeficiente I de Moran global) da quantidade de POIs no nível de município. "
   ]
  },
  {
   "cell_type": "code",
   "execution_count": null,
   "metadata": {},
   "outputs": [],
   "source": []
  },
  {
   "cell_type": "markdown",
   "metadata": {},
   "source": [
    "•**Tarefa 6:**\n",
    "\n",
    "    Plotar os dados de faturamento (considere a mediana do faturamento no período disponibilizado) exibindo informações de lat long e o faturamento no \"hover\" do mouse sobre o ponto."
   ]
  },
  {
   "cell_type": "code",
   "execution_count": null,
   "metadata": {},
   "outputs": [],
   "source": []
  },
  {
   "cell_type": "markdown",
   "metadata": {},
   "source": [
    "•**Tarefa 7:**\n",
    "\n",
    "    Baseado no faturamento histórico, determinar programaticamente quais unidades estão com tendência de alta ou de baixa no faturamento. Adicionar essa informação de alta ou baixa no gráfico do item 6."
   ]
  },
  {
   "cell_type": "code",
   "execution_count": null,
   "metadata": {},
   "outputs": [],
   "source": [
    "#Carregar e mostrar o arquivo\n",
    "arq_fat = pd.read_parquet(\"unidades_faturamento.parquet\")\n",
    "arq_fat"
   ]
  },
  {
   "cell_type": "code",
   "execution_count": null,
   "metadata": {},
   "outputs": [],
   "source": [
    "\n",
    "# Determinar com base nas colunas faturamento e ID unidade\n",
    "faturamento_cols = arq_fat.columns[1:-3]\n",
    "id_col = 'id_unidade'\n",
    "\n",
    "# Transformar os dados para que cada linha seja uma unidade e cada coluna um mês\n",
    "arq_fat_long = arq_fat.melt(id_vars=[id_col], value_vars=faturamento_cols, var_name='data', value_name='faturamento')\n",
    "\n",
    "# Ordenar por unidade e data\n",
    "arq_fat_long = arq_fat_long.sort_values(by=[id_col, 'data'])\n",
    "\n",
    "# Função para calcular a tendência de faturamento\n",
    "def calcular_tendencia(df):\n",
    "    x = np.arange(len(df))\n",
    "    y = df['faturamento'].values\n",
    "    slope, _, _, _, _ = linregress(x, y)\n",
    "    \n",
    "    # Determinar se a tendência é alta ou baixa\n",
    "    if slope > 0:\n",
    "        return 'alta'\n",
    "    elif slope < 0:\n",
    "        return 'baixa'\n",
    "    else:\n",
    "        return 'estável'\n",
    "\n",
    "# Aplicar a função para cada unidade e adicionar a nova coluna\n",
    "arq_fat_tendencia = arq_fat_long.groupby(id_col).apply(calcular_tendencia).reset_index(name='tendencia_faturamento')\n",
    "\n",
    "# Adicionar a coluna de tendência ao DataFrame original\n",
    "arq_fat = arq_fat.merge(arq_fat_tendencia, on=id_col, how='left')\n"
   ]
  },
  {
   "cell_type": "markdown",
   "metadata": {},
   "source": [
    "•**Tarefa 8:**\n",
    "\n",
    "    Plotar o faturamento médio por município"
   ]
  },
  {
   "cell_type": "code",
   "execution_count": null,
   "metadata": {},
   "outputs": [],
   "source": [
    "# TRANSFORMAR AS COORDENADAS GEOGRAFICAS PARA DESCOBRIR A O MUNICIPIO(endereco)\n",
    "# Inicial\n",
    "geolocator = Nominatim(user_agent=\"meu_app\")\n",
    "\n",
    "enderecos = []\n",
    "\n",
    "# percorrer as linhas do Dataset\n",
    "for index, row in arq_fat.iterrows():\n",
    "    latitude = row['latitude']\n",
    "    longitude = row['longitude']\n",
    "    location = geolocator.reverse((latitude, longitude))\n",
    "    endereco_completo = location.address if location else \"Endereço não encontrado\"\n",
    "\n",
    "    # Extrair  o endereço\n",
    "    endereco_partes = endereco_completo.split(',')\n",
    "    if len(endereco_partes) > 5:\n",
    "        endereco_resumido = endereco_partes[5].strip()\n",
    "    else:\n",
    "        endereco_resumido = \"Dados insuficientes\"\n",
    "\n",
    "    enderecos.append(endereco_resumido)\n",
    "    print(f'{endereco_resumido}')\n",
    "\n",
    "# criar uma nova coluna no dataset com os endereços\n",
    "arq_fat['endereco'] = enderecos\n",
    "\n",
    "print(\"Processamento concluído.\")\n"
   ]
  },
  {
   "cell_type": "code",
   "execution_count": null,
   "metadata": {},
   "outputs": [],
   "source": [
    "# Selecionar apenas as colunas de faturamento, excluindo 'id_unidade', 'latitude', 'longitude' e 'endereco'\n",
    "faturamento_cols = arq_fat.columns[1:-3]  # Ajuste conforme a estrutura do seu DataFrame\n",
    "\n",
    "# Somar os valores de faturamento para cada linha\n",
    "arq_fat['faturamento_total'] = arq_fat[faturamento_cols].sum(axis=1)\n",
    "\n",
    "# Calcular a média dos faturamentos por endereço (município)\n",
    "faturamento_medio = arq_fat.groupby('endereco')['faturamento_total'].mean().reset_index()\n",
    "\n",
    "# Ordenar por faturamento médio em ordem decrescente\n",
    "faturamento_medio = faturamento_medio.sort_values(by='faturamento_total', ascending=False)\n",
    "\n",
    "# Criar o gráfico de barras\n",
    "plt.figure(figsize=(15, 10))\n",
    "plt.barh(faturamento_medio['endereco'], faturamento_medio['faturamento_total'], color='teal')\n",
    "plt.xlabel('Faturamento Médio')\n",
    "plt.ylabel('Município')\n",
    "plt.title('Faturamento Médio por Município')\n",
    "plt.gca().invert_yaxis()  # Inverter o eixo y para mostrar o município com maior faturamento no topo\n",
    "plt.show()\n"
   ]
  },
  {
   "cell_type": "markdown",
   "metadata": {},
   "source": [
    "•**Tarefa 9:**\n",
    "\n",
    "    Idem para o faturamento médio por 100 mil habitantes."
   ]
  },
  {
   "cell_type": "code",
   "execution_count": null,
   "metadata": {},
   "outputs": [],
   "source": []
  },
  {
   "cell_type": "markdown",
   "metadata": {},
   "source": [
    "•**Tarefa 10:**\n",
    "\n",
    "    Dada a tabela de faturamentos fictícios, determinar a correlação espacial (coeficiente I de Moran global) do faturamento total no nível de município"
   ]
  },
  {
   "cell_type": "code",
   "execution_count": null,
   "metadata": {},
   "outputs": [],
   "source": []
  },
  {
   "cell_type": "markdown",
   "metadata": {},
   "source": [
    "•**Tarefa 11:**\n",
    "\n",
    "    Dadas as análises elaboradas, que conclusões consegue extrair do estudo? Caso seja útil, fique à vontade para explorar outros tipos de análises adicionais."
   ]
  },
  {
   "cell_type": "markdown",
   "metadata": {},
   "source": [
    "Com base nas análises realizadas, foi possível distinguir entre pontos de interesse geográficos (POIs) e pontos com potenciais concorrentes. Além disso, identificamos quais tipos de negócios predominam em locais específicos e quais unidades apresentam o melhor desempenho financeiro por município. Essas informações podem ajudar a identificar áreas atrativas para a expansão das unidades da rede varejista, auxiliando nas decisões de planejamento urbano e expansão de negócios. Assim, a empresa pode utilizar essas análises para ajustar suas estratégias operacionais com base em POIs, concorrentes, desempenhos históricos e municípios.\n",
    "\n",
    "Do ponto de vista estratégico e geográfico, áreas com um alto número de setores de negócios favoráveis (como escolas e igrejas) podem indicar mercados mais maduros ou com maior demanda e, portanto, podem ser alvos prioritários para a abertura de novas unidades. Em contrapartida, a análise dos setores de negócios concorrentes pode revelar quais áreas estão saturadas e onde há maior competição, orientando a escolha dos locais para novas unidades.\n",
    "\n",
    "No aspecto financeiro, conseguimos avaliar o desempenho das diferentes unidades para identificar padrões de baixa no faturamento que merecem uma análise mais aprofundada, assim como padrões de sucesso que podem ser replicados em outras áreas."
   ]
  }
 ],
 "metadata": {
  "kernelspec": {
   "display_name": "Python 3",
   "language": "python",
   "name": "python3"
  },
  "language_info": {
   "codemirror_mode": {
    "name": "ipython",
    "version": 3
   },
   "file_extension": ".py",
   "mimetype": "text/x-python",
   "name": "python",
   "nbconvert_exporter": "python",
   "pygments_lexer": "ipython3",
   "version": "3.11.3"
  }
 },
 "nbformat": 4,
 "nbformat_minor": 2
}
